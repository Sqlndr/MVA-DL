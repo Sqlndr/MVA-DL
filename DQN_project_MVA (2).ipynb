{
  "nbformat": 4,
  "nbformat_minor": 0,
  "metadata": {
    "colab": {
      "name": "DQN_project_MVA.ipynb",
      "version": "0.3.2",
      "provenance": [],
      "collapsed_sections": []
    },
    "kernelspec": {
      "name": "python3",
      "display_name": "Python 3"
    },
    "accelerator": "GPU"
  },
  "cells": [
    {
      "metadata": {
        "id": "g1NcO_ILBiSJ",
        "colab_type": "text"
      },
      "cell_type": "markdown",
      "source": [
        "**You may need to install [OpenCV](https://pypi.python.org/pypi/opencv-python) and [scikit-video](http://www.scikit-video.org/stable/).**"
      ]
    },
    {
      "metadata": {
        "id": "PJSMkVgvP-yL",
        "colab_type": "code",
        "outputId": "08275344-8042-41f7-f04f-cc6b56bda744",
        "colab": {
          "base_uri": "https://localhost:8080/",
          "height": 191
        }
      },
      "cell_type": "code",
      "source": [
        "!pip install scikit-video"
      ],
      "execution_count": 0,
      "outputs": [
        {
          "output_type": "stream",
          "text": [
            "Collecting scikit-video\n",
            "\u001b[?25l  Downloading https://files.pythonhosted.org/packages/b1/a6/c69cad508139a342810ae46e946ebb3256aa6e42f690d901bb68f50582e3/scikit_video-1.1.11-py2.py3-none-any.whl (2.3MB)\n",
            "\u001b[K    100% |████████████████████████████████| 2.3MB 11.4MB/s \n",
            "\u001b[?25hRequirement already satisfied: pillow in /usr/local/lib/python3.6/dist-packages (from scikit-video) (4.0.0)\n",
            "Requirement already satisfied: scipy in /usr/local/lib/python3.6/dist-packages (from scikit-video) (1.1.0)\n",
            "Requirement already satisfied: numpy in /usr/local/lib/python3.6/dist-packages (from scikit-video) (1.14.6)\n",
            "Requirement already satisfied: olefile in /usr/local/lib/python3.6/dist-packages (from pillow->scikit-video) (0.46)\n",
            "Installing collected packages: scikit-video\n",
            "Successfully installed scikit-video-1.1.11\n"
          ],
          "name": "stdout"
        }
      ]
    },
    {
      "metadata": {
        "id": "M4Gf2sXkBiSO",
        "colab_type": "code",
        "outputId": "6865e08b-6593-4494-c5f8-f888ba7ef8c3",
        "colab": {
          "base_uri": "https://localhost:8080/",
          "height": 34
        }
      },
      "cell_type": "code",
      "source": [
        "import keras\n",
        "import numpy as np\n",
        "import io\n",
        "import base64\n",
        "from IPython.display import HTML\n",
        "import skvideo.io\n",
        "import cv2\n",
        "import json\n",
        "\n",
        "from keras.models import Sequential,model_from_json\n",
        "from keras.layers.core import Dense\n",
        "from keras.optimizers import sgd\n",
        "from keras.layers import Conv2D, MaxPooling2D, Activation, AveragePooling2D,Reshape,BatchNormalization"
      ],
      "execution_count": 0,
      "outputs": [
        {
          "output_type": "stream",
          "text": [
            "Using TensorFlow backend.\n"
          ],
          "name": "stderr"
        }
      ]
    },
    {
      "metadata": {
        "id": "UZOrid1iBiSa",
        "colab_type": "text"
      },
      "cell_type": "markdown",
      "source": [
        "# MiniProject #3: Deep Reinforcement Learning"
      ]
    },
    {
      "metadata": {
        "id": "UY9NipMXBiSd",
        "colab_type": "text"
      },
      "cell_type": "markdown",
      "source": [
        "__Notations__: $E_p$ is the expectation under probability $p$. Please justify each of your answer and widely comment your code."
      ]
    },
    {
      "metadata": {
        "id": "VOKTI2GwBiSh",
        "colab_type": "text"
      },
      "cell_type": "markdown",
      "source": [
        "# Context"
      ]
    },
    {
      "metadata": {
        "id": "4Mgu7ZVTBiSj",
        "colab_type": "text"
      },
      "cell_type": "markdown",
      "source": [
        "In a reinforcement learning algorithm, we modelize each step $t$ as an action $a_t$ obtained from a state $s_t$, i.e. $\\{(a_{t},s_{t})_{t\\leq T}\\}$ having the Markov property. We consider a discount factor $\\gamma \\in [0,1]$ that ensures convergence. The goal is to find among all the policies $\\pi$, one that maximizes the expected reward:\n",
        "\n",
        "\\begin{equation*}\n",
        "R(\\pi)=\\sum_{t\\leq T}E_{p^{\\pi}}[\\gamma^t r(s_{t},a_{t})] \\> ,\n",
        "\\end{equation*}\n",
        "\n",
        "where: \n",
        "\\begin{equation*}p^{\\pi}(a_{0},a_{1},s_{1},...,a_{T},s_{T})=p(a_{0})\\prod_{t=1}^{T}\\pi(a_{t}|s_{t})p(s_{t+1}|s_{t},a_{t}) \\> .\n",
        "\\end{equation*}\n",
        "\n",
        "We note the $Q$-function:\n",
        "\n",
        "\\begin{equation*}Q^\\pi(s,a)=E_{p^{\\pi}}[\\sum_{t\\leq T}\\gamma^{t}r(s_{t},a_{t})|s_{0}=s,a_{0}=a] \\> .\n",
        "\\end{equation*}\n",
        "\n",
        "Thus, the optimal Q function is:\n",
        "\\begin{equation*}\n",
        "Q^*(s,a)=\\max_{\\pi}Q^\\pi(s,a) \\> .\n",
        "\\end{equation*}\n",
        "\n",
        "In this project, we will apply the deep reinforcement learning techniques to a simple game: an agent will have to learn from scratch a policy that will permit it maximizing a reward."
      ]
    },
    {
      "metadata": {
        "id": "BuIedYl-BiSn",
        "colab_type": "text"
      },
      "cell_type": "markdown",
      "source": [
        "## The environment, the agent and the game"
      ]
    },
    {
      "metadata": {
        "id": "hNkJMx_xBiSq",
        "colab_type": "text"
      },
      "cell_type": "markdown",
      "source": [
        "### The environment"
      ]
    },
    {
      "metadata": {
        "id": "L6DcDlsRBiSs",
        "colab_type": "text"
      },
      "cell_type": "markdown",
      "source": [
        "```Environment``` is an abstract class that represents the states, rewards, and actions to obtain the new state."
      ]
    },
    {
      "metadata": {
        "id": "3thwjzPEBiSu",
        "colab_type": "code",
        "colab": {}
      },
      "cell_type": "code",
      "source": [
        "class Environment(object):\n",
        "    def __init__(self):\n",
        "        pass\n",
        "\n",
        "    def act(self, act):\n",
        "        \"\"\"\n",
        "        One can act on the environment and obtain its reaction:\n",
        "        - the new state\n",
        "        - the reward of the new state\n",
        "        - should we continue the game?\n",
        "\n",
        "        :return: state, reward, game_over\n",
        "        \"\"\"\n",
        "        pass\n",
        "\n",
        "\n",
        "    def reset(self):\n",
        "        \"\"\"\n",
        "        Reinitialize the environment to a random state and returns\n",
        "        the original state\n",
        "\n",
        "        :return: state\n",
        "        \"\"\"\n",
        "        pass\n",
        "    \n",
        "    def draw(self):\n",
        "        \"\"\"\n",
        "        Visualize in the console or graphically the current state\n",
        "        \"\"\"\n",
        "        pass"
      ],
      "execution_count": 0,
      "outputs": []
    },
    {
      "metadata": {
        "id": "qIz7bZBXBiS5",
        "colab_type": "text"
      },
      "cell_type": "markdown",
      "source": [
        "The method ```act``` allows to act on the environment at a given state $s_t$ (stored internally), via action $a_t$. The method will return the new state $s_{t+1}$, the reward $r(s_{t},a_{t})$ and determines if $t\\leq T$ (*game_over*).\n",
        "\n",
        "The method ```reset``` simply reinitializes the environment to a random state $s_0$.\n",
        "\n",
        "The method ```draw``` displays the current state $s_t$ (this is useful to check the behavior of the Agent).\n",
        "\n",
        "We modelize $s_t$ as a tensor, while $a_t$ is an integer."
      ]
    },
    {
      "metadata": {
        "id": "7Tt5WhWvBiS7",
        "colab_type": "text"
      },
      "cell_type": "markdown",
      "source": [
        "### The Agent"
      ]
    },
    {
      "metadata": {
        "id": "cb6vX785BiS8",
        "colab_type": "text"
      },
      "cell_type": "markdown",
      "source": [
        "The goal of the ```Agent``` is to interact with the ```Environment``` by proposing actions $a_t$ obtained from a given state $s_t$ to attempt to maximize its __reward__ $r(s_t,a_t)$. We propose the following abstract class:"
      ]
    },
    {
      "metadata": {
        "id": "ollh_LtPBiS_",
        "colab_type": "code",
        "colab": {}
      },
      "cell_type": "code",
      "source": [
        "class Agent(object):\n",
        "    def __init__(self, epsilon=0.1, n_action=4):\n",
        "        self.epsilon = epsilon\n",
        "        self.n_action = n_action\n",
        "    \n",
        "    def set_epsilon(self,e):\n",
        "        self.epsilon = e\n",
        "\n",
        "    def act(self,s,train=True):\n",
        "        \"\"\" This function should return the next action to do:\n",
        "        an integer between 0 and 4 (not included) with a random exploration of epsilon\"\"\"\n",
        "        if train:\n",
        "            if np.random.rand() <= self.epsilon:\n",
        "                a = np.random.randint(0, self.n_action, size=1)[0]\n",
        "            else:\n",
        "                a = self.learned_act(s)\n",
        "        else: # in some cases, this can improve the performance.. remove it if poor performances\n",
        "            a = self.learned_act(s)\n",
        "\n",
        "        return a\n",
        "\n",
        "    def learned_act(self,s):\n",
        "        \"\"\" Act via the policy of the agent, from a given state s\n",
        "        it proposes an action a\"\"\"\n",
        "        pass\n",
        "\n",
        "    def reinforce(self, s, n_s, a, r, game_over_):\n",
        "        \"\"\" This function is the core of the learning algorithm. \n",
        "        It takes as an input the current state s_, the next state n_s_\n",
        "        the action a_ used to move from s_ to n_s_ and the reward r_.\n",
        "        \n",
        "        Its goal is to learn a policy.\n",
        "        \"\"\"\n",
        "        pass\n",
        "\n",
        "    def save(self):\n",
        "        \"\"\" This function returns basic stats if applicable: the\n",
        "        loss and/or the model\"\"\"\n",
        "        pass\n",
        "\n",
        "    def load(self):\n",
        "        \"\"\" This function allows to restore a model\"\"\"\n",
        "        pass"
      ],
      "execution_count": 0,
      "outputs": []
    },
    {
      "metadata": {
        "id": "R-9Gs3bABiTK",
        "colab_type": "text"
      },
      "cell_type": "markdown",
      "source": [
        "***\n",
        "__Question 1__:\n",
        "Explain the function act. Why is ```epsilon``` essential?"
      ]
    },
    {
      "metadata": {
        "id": "632uBCy9BiTL",
        "colab_type": "text"
      },
      "cell_type": "markdown",
      "source": [
        "The act funtion is the one that aloows us to choose what to do. It's that one that allows us to choose between the exploitation (using the learned best action) and the exploration (trying a new action to explore new possibilities and discoverf better behaviors). This exploration is controled  with the epsilon factor."
      ]
    },
    {
      "metadata": {
        "id": "TYuwvv5jBiTO",
        "colab_type": "text"
      },
      "cell_type": "markdown",
      "source": [
        "***\n",
        "### The Game"
      ]
    },
    {
      "metadata": {
        "id": "GSmsBnthBiTR",
        "colab_type": "text"
      },
      "cell_type": "markdown",
      "source": [
        "The ```Agent``` and the ```Environment``` work in an interlaced way as in the following (take some time to understand this code as it is the core of the project)\n",
        "\n",
        "```python\n",
        "\n",
        "epoch = 300\n",
        "env = Environment()\n",
        "agent = Agent()\n",
        "\n",
        "\n",
        "# Number of won games\n",
        "score = 0\n",
        "loss = 0\n",
        "\n",
        "\n",
        "for e in range(epoch):\n",
        "    # At each epoch, we restart to a fresh game and get the initial state\n",
        "    state = env.reset()\n",
        "    # This assumes that the games will end\n",
        "    game_over = False\n",
        "\n",
        "    win = 0\n",
        "    lose = 0\n",
        "    \n",
        "    while not game_over:\n",
        "        # The agent performs an action\n",
        "        action = agent.act(state)\n",
        "\n",
        "        # Apply an action to the environment, get the next state, the reward\n",
        "        # and if the games end\n",
        "        prev_state = state\n",
        "        state, reward, game_over = env.act(action)\n",
        "\n",
        "        # Update the counters\n",
        "        if reward > 0:\n",
        "            win = win + reward\n",
        "        if reward < 0:\n",
        "            lose = lose -reward\n",
        "\n",
        "        # Apply the reinforcement strategy\n",
        "        loss = agent.reinforce(prev_state, state,  action, reward, game_over)\n",
        "\n",
        "    # Save as a mp4\n",
        "    if e % 10 == 0:\n",
        "        env.draw(e)\n",
        "\n",
        "    # Update stats\n",
        "    score += win-lose\n",
        "\n",
        "    print(\"Epoch {:03d}/{:03d} | Loss {:.4f} | Win/lose count {}/{} ({})\"\n",
        "          .format(e, epoch, loss, win, lose, win-lose))\n",
        "    agent.save()\n",
        "```"
      ]
    },
    {
      "metadata": {
        "id": "W9MWk3ZRBiTU",
        "colab_type": "text"
      },
      "cell_type": "markdown",
      "source": [
        "# The game, *eat cheese*"
      ]
    },
    {
      "metadata": {
        "id": "klp3DL5ABiTW",
        "colab_type": "text"
      },
      "cell_type": "markdown",
      "source": [
        "A rat runs on an island and tries to eat as much as possible. The island is subdivided into $N\\times N$ cells, in which there are cheese (+0.5) and poisonous cells (-1). The rat has a visibility of 2 cells (thus it can see $5^2$ cells). The rat is given a time $T$ to accumulate as much food as possible. It can perform 4 actions: going up, down, left, right. \n",
        "\n",
        "The goal is to code an agent to solve this task that will learn by trial and error. We propose the following environment:"
      ]
    },
    {
      "metadata": {
        "id": "9yUq1ojVBiTZ",
        "colab_type": "code",
        "colab": {}
      },
      "cell_type": "code",
      "source": [
        "class Environment(object):\n",
        "    def __init__(self, grid_size=10, max_time=500, temperature=0.1):\n",
        "        grid_size = grid_size+4\n",
        "        self.grid_size = grid_size\n",
        "        self.max_time = max_time\n",
        "        self.temperature = temperature\n",
        "\n",
        "        #board on which one plays\n",
        "        self.board = np.zeros((grid_size,grid_size))\n",
        "        self.position = np.zeros((grid_size,grid_size))\n",
        "\n",
        "        # coordinate of the cat\n",
        "        self.x = 0\n",
        "        self.y = 1\n",
        "\n",
        "        # self time\n",
        "        self.t = 0\n",
        "\n",
        "        self.scale=16\n",
        "\n",
        "        self.to_draw = np.zeros((max_time+2, grid_size*self.scale, grid_size*self.scale, 3))\n",
        "\n",
        "\n",
        "    def draw(self,e):\n",
        "        skvideo.io.vwrite(str(e) + '.mp4', self.to_draw)\n",
        "\n",
        "    def get_frame(self,t):\n",
        "        b = np.zeros((self.grid_size,self.grid_size,3))+128\n",
        "        b[self.board>0,0] = 256\n",
        "        b[self.board < 0, 2] = 256\n",
        "        b[self.x,self.y,:]=256\n",
        "        b[-2:,:,:]=0\n",
        "        b[:,-2:,:]=0\n",
        "        b[:2,:,:]=0\n",
        "        b[:,:2,:]=0\n",
        "        \n",
        "        b =  cv2.resize(b, None, fx=self.scale, fy=self.scale, interpolation=cv2.INTER_NEAREST)\n",
        "\n",
        "        self.to_draw[t,:,:,:]=b\n",
        "\n",
        "\n",
        "    def act(self, action):\n",
        "        \"\"\"This function returns the new state, reward and decides if the\n",
        "        game ends.\"\"\"\n",
        "\n",
        "        self.get_frame(int(self.t))\n",
        "\n",
        "        self.position = np.zeros((self.grid_size, self.grid_size))\n",
        "\n",
        "        self.position[0:2,:]= -1\n",
        "        self.position[:,0:2] = -1\n",
        "        self.position[-2:, :] = -1\n",
        "        self.position[-2:, :] = -1\n",
        "\n",
        "        self.position[self.x, self.y] = 1\n",
        "        if action == 0:\n",
        "            if self.x == self.grid_size-3:\n",
        "                self.x = self.x-1\n",
        "            else:\n",
        "                self.x = self.x + 1\n",
        "        elif action == 1:\n",
        "            if self.x == 2:\n",
        "                self.x = self.x+1\n",
        "            else:\n",
        "                self.x = self.x-1\n",
        "        elif action == 2:\n",
        "            if self.y == self.grid_size - 3:\n",
        "                self.y = self.y - 1\n",
        "            else:\n",
        "                self.y = self.y + 1\n",
        "        elif action == 3:\n",
        "            if self.y == 2:\n",
        "                self.y = self.y + 1\n",
        "            else:\n",
        "                self.y = self.y - 1\n",
        "        else:\n",
        "            RuntimeError('Error: action not recognized')\n",
        "\n",
        "        self.t = self.t + 1\n",
        "        reward = self.board[self.x, self.y]\n",
        "        self.board[self.x, self.y] = 0\n",
        "        game_over = self.t > self.max_time\n",
        "        state = np.concatenate((self.board.reshape(self.grid_size, self.grid_size,1),\n",
        "                        self.position.reshape(self.grid_size, self.grid_size,1)),axis=2)\n",
        "        state = state[self.x-2:self.x+3,self.y-2:self.y+3,:]\n",
        "\n",
        "        return state, reward, game_over\n",
        "\n",
        "    def reset(self):\n",
        "        \"\"\"This function resets the game and returns the initial state\"\"\"\n",
        "\n",
        "        self.x = np.random.randint(3, self.grid_size-3, size=1)[0]\n",
        "        self.y = np.random.randint(3, self.grid_size-3, size=1)[0]\n",
        "\n",
        "\n",
        "        bonus = 0.5*np.random.binomial(1,self.temperature,size=self.grid_size**2)\n",
        "        bonus = bonus.reshape(self.grid_size,self.grid_size)\n",
        "\n",
        "        malus = -1.0*np.random.binomial(1,self.temperature,size=self.grid_size**2)\n",
        "        malus = malus.reshape(self.grid_size, self.grid_size)\n",
        "\n",
        "        self.to_draw = np.zeros((self.max_time+2, self.grid_size*self.scale, self.grid_size*self.scale, 3))\n",
        "\n",
        "\n",
        "        malus[bonus>0]=0\n",
        "\n",
        "        self.board = bonus + malus\n",
        "\n",
        "        self.position = np.zeros((self.grid_size, self.grid_size))\n",
        "        self.position[0:2,:]= -1\n",
        "        self.position[:,0:2] = -1\n",
        "        self.position[-2:, :] = -1\n",
        "        self.position[-2:, :] = -1\n",
        "        self.board[self.x,self.y] = 0\n",
        "        self.t = 0\n",
        "\n",
        "        state = np.concatenate((\n",
        "                               self.board.reshape(self.grid_size, self.grid_size,1),\n",
        "                        self.position.reshape(self.grid_size, self.grid_size,1)),axis=2)\n",
        "\n",
        "        state = state[self.x - 2:self.x + 3, self.y - 2:self.y + 3, :]\n",
        "        return state"
      ],
      "execution_count": 0,
      "outputs": []
    },
    {
      "metadata": {
        "id": "a1wpTqY_BiTl",
        "colab_type": "text"
      },
      "cell_type": "markdown",
      "source": [
        "The following elements are important because they correspond to the hyper parameters for this project:"
      ]
    },
    {
      "metadata": {
        "id": "boiR1Q5MBiTn",
        "colab_type": "code",
        "colab": {}
      },
      "cell_type": "code",
      "source": [
        "# parameters\n",
        "size = 13\n",
        "T=200\n",
        "temperature=0.3\n",
        "epochs_train=3 # set small when debugging\n",
        "epochs_test=3 # set small when debugging\n",
        "\n",
        "# display videos\n",
        "def display_videos(name):\n",
        "    video = io.open(name, 'r+b').read()\n",
        "    encoded = base64.b64encode(video)\n",
        "    return '''<video alt=\"test\" controls>\n",
        "                <source src=\"data:video/mp4;base64,{0}\" type=\"video/mp4\" />\n",
        "             </video>'''.format(encoded.decode('ascii'))"
      ],
      "execution_count": 0,
      "outputs": []
    },
    {
      "metadata": {
        "id": "tFCwN60BBiTv",
        "colab_type": "text"
      },
      "cell_type": "markdown",
      "source": [
        "__Question 2__ Explain the use of the arrays ```position``` and ```board```."
      ]
    },
    {
      "metadata": {
        "id": "vjpzG75MBiTy",
        "colab_type": "text"
      },
      "cell_type": "markdown",
      "source": [
        "The position array is useful because it allows us to choose the eligible positions. Since the player have a vision of 2 squares around him, the unavailable positions have a -1 value and the player has a value of 1. The rest have a value of zero.\n",
        "\n",
        "\n",
        "The borad game give the player the information about the surrounding bonus and malus on the map around him.\n"
      ]
    },
    {
      "metadata": {
        "id": "tVwYI54RBiTz",
        "colab_type": "text"
      },
      "cell_type": "markdown",
      "source": [
        "## Random Agent"
      ]
    },
    {
      "metadata": {
        "id": "94hbaBChBiT3",
        "colab_type": "text"
      },
      "cell_type": "markdown",
      "source": [
        "***\n",
        "__Question 3__ Implement a random Agent (only ```learned_act``` needs to be implemented):"
      ]
    },
    {
      "metadata": {
        "id": "Z5LuIhOLBiT4",
        "colab_type": "code",
        "colab": {}
      },
      "cell_type": "code",
      "source": [
        "class RandomAgent(Agent):\n",
        "    def __init__(self):\n",
        "        super(RandomAgent, self).__init__()\n",
        "        pass\n",
        "\n",
        "    def learned_act(self, s):\n",
        "        return np.random.randint(0, self.n_action, size=1)[0]"
      ],
      "execution_count": 0,
      "outputs": []
    },
    {
      "metadata": {
        "id": "xs6UDepUBiUD",
        "colab_type": "text"
      },
      "cell_type": "markdown",
      "source": [
        "***\n",
        "***\n",
        "__Question 4__ Visualize the game moves. You need to fill in the following function for the evaluation:"
      ]
    },
    {
      "metadata": {
        "id": "ZbQuHDWcBiUF",
        "colab_type": "code",
        "colab": {}
      },
      "cell_type": "code",
      "source": [
        "def test(agent,env,epochs,prefix=''):\n",
        "    # Number of won games\n",
        "    score = 0\n",
        "    \n",
        "    for e in range(epochs):\n",
        "\n",
        "        ##### FILL IN HERE\n",
        "\n",
        "        # At each epoch, we restart to a fresh game and get the initial state\n",
        "        state = env.reset()\n",
        "    \n",
        "        win = 0\n",
        "        lose = 0\n",
        "        game_over = False\n",
        "        \n",
        "        while not game_over :\n",
        "\n",
        "            # The agent performs an action\n",
        "            action = agent.act(state)\n",
        "\n",
        "            prev_state = state\n",
        "            state, reward, game_over = env.act(action)\n",
        "\n",
        "            # Update the counters\n",
        "            if reward > 0:\n",
        "                win = win + reward\n",
        "            if reward < 0:\n",
        "                lose = lose -reward\n",
        "\n",
        "        # Save as a mp4\n",
        "        env.draw(prefix+str(e))\n",
        "\n",
        "        # Update stats\n",
        "        score = score + win-lose\n",
        "\n",
        "        print(\"Win/lose count {}/{}. Average score ({})\"\n",
        "              .format(win, lose, score/(1+e)))\n",
        "    print('Final score: '+str(score/epochs))"
      ],
      "execution_count": 0,
      "outputs": []
    },
    {
      "metadata": {
        "id": "aqsxzpwaBiUL",
        "colab_type": "code",
        "outputId": "271f0e29-3778-40c3-c1f7-524690e68dda",
        "colab": {
          "base_uri": "https://localhost:8080/",
          "height": 239
        }
      },
      "cell_type": "code",
      "source": [
        "# Initialize the game\n",
        "env = Environment(grid_size=size, max_time=T,temperature=temperature)\n",
        "\n",
        "# Initialize the agent!\n",
        "agent = RandomAgent()\n",
        "\n",
        "test(agent,env,epochs_test,prefix='random')\n",
        "HTML(display_videos('random0.mp4'))"
      ],
      "execution_count": 0,
      "outputs": [
        {
          "output_type": "stream",
          "text": [
            "Win/lose count 11.5/18.0. Average score (-6.5)\n",
            "Win/lose count 5.5/14.0. Average score (-7.5)\n",
            "Win/lose count 15.5/12.0. Average score (-3.8333333333333335)\n",
            "Final score: -3.8333333333333335\n"
          ],
          "name": "stdout"
        },
        {
          "output_type": "execute_result",
          "data": {
            "text/html": [
              "<video alt=\"test\" controls>\n",
              "                <source src=\"data:video/mp4;base64,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\" type=\"video/mp4\" />\n",
              "             </video>"
            ],
            "text/plain": [
              "<IPython.core.display.HTML object>"
            ]
          },
          "metadata": {
            "tags": []
          },
          "execution_count": 9
        }
      ]
    },
    {
      "metadata": {
        "id": "TYRX45JJBiUY",
        "colab_type": "text"
      },
      "cell_type": "markdown",
      "source": [
        "***\n",
        "## DQN"
      ]
    },
    {
      "metadata": {
        "id": "d0ZVnqlFBiUZ",
        "colab_type": "text"
      },
      "cell_type": "markdown",
      "source": [
        "Let us assume here that $T=\\infty$.\n",
        "\n",
        "***\n",
        "__Question 5__ Let $\\pi$ be a policy, show that:\n",
        "\n",
        "\\begin{equation*}\n",
        "Q^{\\pi}(s,a)=E_{(s',a')\\sim p(.|s,a)}[r(s,a)+\\gamma Q^{\\pi}(s',a')]\n",
        "\\end{equation*}\n",
        "\n",
        "Then, show that for the optimal policy $\\pi^*$ (we assume its existence), the following holds: \n",
        "\n",
        "\\begin{equation*}\n",
        "Q^{*}(s,a)=E_{s'\\sim \\pi^*(.|s,a)}[r(s,a)+\\gamma\\max_{a'}Q^{*}(s',a')].\n",
        "\\end{equation*}\n",
        "Finally, deduce that a plausible objective is:\n",
        "\n",
        "\\begin{equation*}\n",
        "\\mathcal{L}(\\theta)=E_{s' \\sim \\pi^*(.|s,a)}\\Vert r+\\gamma\\max\\max_{a'}Q(s',a',\\theta)-Q(s,a,\\theta)\\Vert^{2}.\n",
        "\\end{equation*}\n",
        "\n",
        "\n"
      ]
    },
    {
      "metadata": {
        "id": "U8ew9dUBBiUe",
        "colab_type": "text"
      },
      "cell_type": "markdown",
      "source": [
        "We have first:\n",
        "\n",
        "$$Q^\\pi(s,a)=E_{p^{\\pi}}[\\sum_{0\\leq t}\\gamma^{t}r(s_{t},a_{t})|s_{0}=s,a_{0}=a] \\>$$\n",
        "\n",
        "\n",
        "$$Q^\\pi(s,a)=E_{p^{\\pi}}[r(s_0, a_0) \\gamma^0 +  \\sum_{1 \\leq t}\\gamma^{t}r(s_{t},a_{t})|s_{0}=s,a_{0}=a] \\>$$\n",
        "\n",
        "\n",
        "$$Q^\\pi(s,a)=E_{p^{\\pi}}[r(s, a)  +  \\sum_{1 \\leq t}\\gamma^{t}r(s_{t},a_{t})|s_{0}=s,a_{0}=a] \\>$$\n",
        "\n",
        "$$Q^\\pi(s,a)=E_{p^{\\pi}}[r(s, a)  +  \\sum_{1 \\leq t}\\gamma^{t}r(s_{t},a_{t})|s_{0}=s,a_{0}=a] \\>$$\n",
        "\n",
        "\n",
        "$$Q^\\pi(s,a)=E_{p^{\\pi}}[r(s, a)  + \\gamma \\sum_{1 \\leq t\\leq T}\\gamma^{t-1}r(s_{t},a_{t})|s_{0}=s,a_{0}=a] \\>$$\n",
        "\n",
        "\n",
        "\n",
        "We have for all p:\n",
        "\n",
        "$$Q^{\\pi}(s,a)=E_{(s',a')\\sim p(.|s,a)}[r(s,a)+\\gamma Q^{\\pi}(s',a')]$$\n",
        "\n",
        "so it's also the case for $\\pi^*$:\n",
        "\n",
        "$$Q^*(s,a)=E_{(s',a')\\sim p(.|s,a)}[r(s,a)+\\gamma Q^*(s',a')]$$\n",
        "\n",
        "Since we have by definitnion:\n",
        "\n",
        "$$Q^*(s,\\pi^*(s))=\\max_{a}Q^(s,a)$$\n",
        "\n",
        "thus the final result:\n",
        "\n",
        "$$Q^{*}(s,a)=E_{s'\\sim \\pi^*(.|s,a)}[r(s,a)+\\gamma\\max_{a'}Q^{*}(s',a')].$$\n",
        "\n",
        "\n",
        "\n",
        "Now let's look at the loss function:\n",
        "\n",
        "We could want to have as a target the $r +\\gamma \\max_aQ(s,a, \\theta)$  which would be a nice target for $Q(a,s,\\theta)$. we know that the difference si null wthen $\\pi = \\pi^*$, which means that reducing the difference which is the temporal difference is a nice objective to converge to $Q^*$. "
      ]
    },
    {
      "metadata": {
        "id": "Yi6N05aSBiUg",
        "colab_type": "text"
      },
      "cell_type": "markdown",
      "source": [
        "***\n",
        "The DQN-learning algorithm relies on these derivations to train the parameters $\\theta$ of a Deep Neural Network:\n",
        "\n",
        "1. At the state $s_t$, select the action $a_t$ with best reward using $Q_t$ and store the results;\n",
        "\n",
        "2. Obtain the new state $s_{t+1}$ from the environment $p$;\n",
        "\n",
        "3. Store $(s_t,a_t,s_{t+1})$;\n",
        "\n",
        "4. Obtain $Q_{t+1}$ by minimizing  $\\mathcal{L}$ from a recovered batch from the previously stored results.\n",
        "\n",
        "***\n",
        "__Question 6__ Implement the class ```Memory``` that stores moves (in a replay buffer) via ```remember``` and provides a ```random_access``` to these. Specify a maximum memory size to avoid side effects. You can for example use a ```list()``` and set by default ```max_memory=100```."
      ]
    },
    {
      "metadata": {
        "id": "xSBDAZzgBiUq",
        "colab_type": "code",
        "colab": {}
      },
      "cell_type": "code",
      "source": [
        "class Memory(object):\n",
        "    def __init__(self, max_memory=100):\n",
        "        self.max_memory = max_memory\n",
        "        self.memory = list()\n",
        "\n",
        "    def remember(self, m):\n",
        "        if len(self.memory) < self.max_memory:\n",
        "            self.memory.append(m)\n",
        "        else:\n",
        "            self.memory = self.memory[-self.max_memory:] + [m]\n",
        "        pass\n",
        "\n",
        "    def random_access(self):\n",
        "        i = np.random.choice(min(len(self.memory), self.max_memory))\n",
        "        return self.memory[i]"
      ],
      "execution_count": 0,
      "outputs": []
    },
    {
      "metadata": {
        "id": "t_M981B2BiUw",
        "colab_type": "text"
      },
      "cell_type": "markdown",
      "source": [
        "***\n",
        "The pipeline we will use for training is given below:"
      ]
    },
    {
      "metadata": {
        "id": "_dvSvIm6BiU3",
        "colab_type": "code",
        "colab": {}
      },
      "cell_type": "code",
      "source": [
        "def train(agent,env,epoch,prefix=''):\n",
        "    # Number of won games\n",
        "    score = 0\n",
        "    loss = 0\n",
        "\n",
        "    for e in range(epoch):\n",
        "        # At each epoch, we restart to a fresh game and get the initial state\n",
        "        state = env.reset()\n",
        "        # This assumes that the games will terminate\n",
        "        game_over = False\n",
        "\n",
        "        win = 0\n",
        "        lose = 0\n",
        "\n",
        "        while not game_over:\n",
        "                        \n",
        "            # The agent performs an action\n",
        "            action = agent.act(state)\n",
        "\n",
        "            # Apply an action to the environment, get the next state, the reward\n",
        "            # and if the games end\n",
        "            prev_state = state\n",
        "            state, reward, game_over = env.act(action)\n",
        "\n",
        "            # Update the counters\n",
        "            if reward > 0:\n",
        "                win = win + reward\n",
        "            if reward < 0:\n",
        "                lose = lose -reward\n",
        "\n",
        "            # Apply the reinforcement strategy\n",
        "            loss = agent.reinforce(prev_state, state,  action, reward, game_over)\n",
        "\n",
        "        # Save as a mp4\n",
        "        if e % 10 == 0:\n",
        "            env.draw(prefix+str(e))\n",
        "\n",
        "        # Update stats\n",
        "        score += win-lose\n",
        "\n",
        "        print(\"Epoch {:03d}/{:03d} | Loss {:.4f} | Win/lose count {}/{} ({})\"\n",
        "              .format(e, epoch, loss, win, lose, win-lose))\n",
        "        agent.save(name_weights=prefix+'model.h5',name_model=prefix+'model.json')"
      ],
      "execution_count": 0,
      "outputs": []
    },
    {
      "metadata": {
        "id": "vkvpny95BiVA",
        "colab_type": "text"
      },
      "cell_type": "markdown",
      "source": [
        "***\n",
        "__Question 7__ Implement the DQN training algorithm using a cascade of fully connected layers. You can use different learning rate, batch size or memory size parameters. In particular, the loss might oscillate while the player will start to win the games. You have to find a good criterium."
      ]
    },
    {
      "metadata": {
        "id": "KETsvQj5BiVD",
        "colab_type": "code",
        "colab": {}
      },
      "cell_type": "code",
      "source": [
        "class DQN(Agent):\n",
        "    def __init__(self, grid_size,  epsilon = 0.1, memory_size=100, batch_size = 16,n_state=2):\n",
        "        super(DQN, self).__init__(epsilon = epsilon)\n",
        "\n",
        "        # Discount for Q learning\n",
        "        self.discount = 0.99\n",
        "        \n",
        "        self.grid_size = grid_size\n",
        "        \n",
        "        # number of state\n",
        "        self.n_state = n_state\n",
        "\n",
        "        # Memory\n",
        "        self.memory = Memory(memory_size)\n",
        "        \n",
        "        # Batch size when learning\n",
        "        self.batch_size = batch_size\n",
        "\n",
        "    def learned_act(self, s):\n",
        "        pass\n",
        "\n",
        "    def reinforce(self, s_, n_s_, a_, r_, game_over_):\n",
        "        # Two steps: first memorize the states, second learn from the pool\n",
        "\n",
        "        self.memory.remember([s_, n_s_, a_, r_, game_over_])\n",
        "        \n",
        "        input_states = np.zeros((self.batch_size, 5,5,self.n_state))\n",
        "        target_q = np.zeros((self.batch_size, 4))\n",
        "        \n",
        "        for i in range(self.batch_size):\n",
        "            ######## FILL IN\n",
        "            state_, next_state_, action_, reward_, game_over_ = self.memory.random_access()\n",
        "            input_states[i] = state_\n",
        "            target_q[i] = self.model.predict(np.expand_dims(state_, 0))\n",
        "            \n",
        "            if game_over_:\n",
        "                ######## FILL IN\n",
        "                target_q[i, action_] = reward_\n",
        "            else:\n",
        "                ######## FILL IN\n",
        "                target_q[i, action_] = reward_ + self.discount *\\\n",
        "                                       np.max(self.model.predict(np.expand_dims(next_state_, 0)))\n",
        "                \n",
        "        ######## FILL IN\n",
        "        # HINT: Clip the target to avoid exploiding gradients.. -- clipping is a bit tighter\n",
        "        target_q = np.clip(target_q, -2, 2)\n",
        "\n",
        "        l = self.model.train_on_batch(input_states, target_q)\n",
        "\n",
        "        return l\n",
        "\n",
        "    def save(self,name_weights='model.h5',name_model='model.json'):\n",
        "        self.model.save_weights(name_weights, overwrite=True)\n",
        "        with open(name_model, \"w\") as outfile:\n",
        "            json.dump(self.model.to_json(), outfile)\n",
        "            \n",
        "    def load(self,name_weights='model.h5',name_model='model.json'):\n",
        "        with open(name_model, \"r\") as jfile:\n",
        "            model = model_from_json(json.load(jfile))\n",
        "        model.load_weights(name_weights)\n",
        "        model.compile(\"sgd\", \"mse\")\n",
        "        self.model = model\n",
        "\n",
        "            \n",
        "class DQN_FC(DQN):\n",
        "    def __init__(self, *args, lr=0.1,**kwargs):\n",
        "        super(DQN_FC, self).__init__( *args,**kwargs)\n",
        "        \n",
        "        # NN Model\n",
        "\n",
        "        # This returns a tensor\n",
        "        inputs = keras.layers.Input(shape=(5,5,self.n_state))\n",
        "        flat = keras.layers.Flatten()(inputs)\n",
        "\n",
        "        # a layer instance is callable on a tensor, and returns a tensor\n",
        "        x = keras.layers.Dense(32, activation='relu')(flat)\n",
        "        x = keras.layers.Dense(32, activation='relu')(x)\n",
        "        predictions = keras.layers.Dense(4)(x)\n",
        "\n",
        "        # This creates a model that includes\n",
        "        # the Input layer and three Dense layers\n",
        "        model = keras.models.Model(inputs=inputs, outputs=predictions)\n",
        "        ####### FILL IN\n",
        "        \n",
        "        model.compile(sgd(lr=lr, decay=1e-4, momentum=0.0), \"mse\")\n",
        "        self.model = model\n",
        "        \n",
        "        "
      ],
      "execution_count": 0,
      "outputs": []
    },
    {
      "metadata": {
        "id": "O3q_ki6gBiVN",
        "colab_type": "code",
        "outputId": "270243aa-6bb5-46d8-c4e7-0dc87a127dcc",
        "colab": {
          "base_uri": "https://localhost:8080/",
          "height": 824
        }
      },
      "cell_type": "code",
      "source": [
        "epochs_train=30 # set small when debugging\n",
        "\n",
        "env = Environment(grid_size=size, max_time=T, temperature=0.3)\n",
        "for lr in [ 0.01]:\n",
        "    print(lr)\n",
        "    agent = DQN_FC(size, lr=lr, epsilon = 0.1, memory_size=2000, batch_size = 32)\n",
        "    train(agent, env, epochs_train, prefix='fc_train')\n",
        "HTML(display_videos('fc_train10.mp4'))"
      ],
      "execution_count": 34,
      "outputs": [
        {
          "output_type": "stream",
          "text": [
            "0.01\n",
            "Epoch 000/030 | Loss 0.0123 | Win/lose count 3.0/3.0 (0.0)\n",
            "Epoch 001/030 | Loss 0.0433 | Win/lose count 1.5/2.0 (-0.5)\n",
            "Epoch 002/030 | Loss 0.0707 | Win/lose count 2.0/4.0 (-2.0)\n",
            "Epoch 003/030 | Loss 0.0301 | Win/lose count 0.5/3.0 (-2.5)\n",
            "Epoch 004/030 | Loss 0.0355 | Win/lose count 2.5/1.0 (1.5)\n",
            "Epoch 005/030 | Loss 0.0318 | Win/lose count 1.0/5.0 (-4.0)\n",
            "Epoch 006/030 | Loss 0.0550 | Win/lose count 1.5/1.0 (0.5)\n",
            "Epoch 007/030 | Loss 0.0167 | Win/lose count 2.5/2.0 (0.5)\n",
            "Epoch 008/030 | Loss 0.0159 | Win/lose count 5.0/2.0 (3.0)\n",
            "Epoch 009/030 | Loss 0.0157 | Win/lose count 1.5/4.0 (-2.5)\n",
            "Epoch 010/030 | Loss 0.0216 | Win/lose count 2.0/2.0 (0.0)\n",
            "Epoch 011/030 | Loss 0.0352 | Win/lose count 0.5/4.0 (-3.5)\n",
            "Epoch 012/030 | Loss 0.0117 | Win/lose count 3.0/2.0 (1.0)\n",
            "Epoch 013/030 | Loss 0.0074 | Win/lose count 2.0/0 (2.0)\n",
            "Epoch 014/030 | Loss 0.0104 | Win/lose count 1.0/1.0 (0.0)\n",
            "Epoch 015/030 | Loss 0.0070 | Win/lose count 2.0/1.0 (1.0)\n",
            "Epoch 016/030 | Loss 0.0138 | Win/lose count 1.0/4.0 (-3.0)\n",
            "Epoch 017/030 | Loss 0.0208 | Win/lose count 0.5/2.0 (-1.5)\n",
            "Epoch 018/030 | Loss 0.0080 | Win/lose count 2.0/1.0 (1.0)\n",
            "Epoch 019/030 | Loss 0.0082 | Win/lose count 2.5/2.0 (0.5)\n",
            "Epoch 020/030 | Loss 0.0144 | Win/lose count 2.5/3.0 (-0.5)\n",
            "Epoch 021/030 | Loss 0.0088 | Win/lose count 1.5/1.0 (0.5)\n",
            "Epoch 022/030 | Loss 0.0068 | Win/lose count 2.5/1.0 (1.5)\n",
            "Epoch 023/030 | Loss 0.0145 | Win/lose count 3.5/5.0 (-1.5)\n",
            "Epoch 024/030 | Loss 0.1605 | Win/lose count 5.0/2.0 (3.0)\n",
            "Epoch 025/030 | Loss 0.1296 | Win/lose count 2.0/2.0 (0.0)\n",
            "Epoch 026/030 | Loss 0.0114 | Win/lose count 3.0/1.0 (2.0)\n",
            "Epoch 027/030 | Loss 0.0170 | Win/lose count 4.0/2.0 (2.0)\n",
            "Epoch 028/030 | Loss 0.0070 | Win/lose count 3.0/2.0 (1.0)\n",
            "Epoch 029/030 | Loss 0.0057 | Win/lose count 2.0/1.0 (1.0)\n"
          ],
          "name": "stdout"
        },
        {
          "output_type": "execute_result",
          "data": {
            "text/html": [
              "<video alt=\"test\" controls>\n",
              "                <source src=\"data:video/mp4;base64,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\" type=\"video/mp4\" />\n",
              "             </video>"
            ],
            "text/plain": [
              "<IPython.core.display.HTML object>"
            ]
          },
          "metadata": {
            "tags": []
          },
          "execution_count": 34
        }
      ]
    },
    {
      "metadata": {
        "id": "dMFT115vBiVX",
        "colab_type": "text"
      },
      "cell_type": "markdown",
      "source": [
        "***\n",
        "***\n",
        "__Question 8__ Implement the DQN training algorithm using a CNN (for example, 2 convolutional layers and one final fully connected layer)."
      ]
    },
    {
      "metadata": {
        "id": "8sEaoypBBiVY",
        "colab_type": "code",
        "colab": {}
      },
      "cell_type": "code",
      "source": [
        "class DQN_CNN(DQN):\n",
        "    def __init__(self, *args,lr=0.1,**kwargs):\n",
        "        super(DQN_CNN, self).__init__(*args,**kwargs)\n",
        "        \n",
        "        ###### FILL IN\n",
        "        \n",
        "        inputs = keras.layers.Input(shape=(5,5,self.n_state))\n",
        "\n",
        "        x = Conv2D(16, (3, 3), padding='valid', activation='relu')(inputs)\n",
        "        x = BatchNormalization()(x)\n",
        "        x = Conv2D(16, (3, 3), padding='valid', activation='relu')(x)\n",
        "        x = BatchNormalization()(x)\n",
        "\n",
        "        x = keras.layers.Flatten()(x)\n",
        "\n",
        "        predictions = keras.layers.Dense(4)(x)\n",
        "        \n",
        "        # This creates a model that includes\n",
        "        # the Input layer and three Dense layers\n",
        "        model = keras.models.Model(inputs=inputs, outputs=predictions)\n",
        "\n",
        "        \n",
        "        model.compile(sgd(lr=lr, decay=1e-4, momentum=0.0), \"mse\")\n",
        "        self.model = model"
      ],
      "execution_count": 0,
      "outputs": []
    },
    {
      "metadata": {
        "id": "dD5splJ9BiVd",
        "colab_type": "code",
        "outputId": "16a49fdc-4d20-4337-e378-a2506c8e61d2",
        "colab": {
          "base_uri": "https://localhost:8080/",
          "height": 377
        }
      },
      "cell_type": "code",
      "source": [
        "env = Environment(grid_size=size, max_time=T, temperature=0.3)\n",
        "for lr in [ 0.01]:\n",
        "    print(lr)\n",
        "    agent = DQN_CNN(size, lr=lr, epsilon = 0.1, memory_size=2000, batch_size = 32)\n",
        "    train(agent,env,epochs_train,prefix='cnn_train')\n",
        "HTML(display_videos('cnn_train10.mp4'))"
      ],
      "execution_count": 0,
      "outputs": [
        {
          "output_type": "stream",
          "text": [
            "0.01\n",
            "Epoch 000/030 | Loss 0.2139 | Win/lose count 1.0/3.0 (-2.0)\n",
            "Epoch 001/030 | Loss 0.0887 | Win/lose count 2.0/3.0 (-1.0)\n",
            "Epoch 002/030 | Loss 0.1413 | Win/lose count 2.0/1.0 (1.0)\n",
            "Epoch 003/030 | Loss 0.0598 | Win/lose count 0.5/1.0 (-0.5)\n",
            "Epoch 004/030 | Loss 0.0368 | Win/lose count 2.0/2.0 (0.0)\n",
            "Epoch 005/030 | Loss 0.0715 | Win/lose count 2.5/2.0 (0.5)\n",
            "Epoch 006/030 | Loss 0.0304 | Win/lose count 1.0/2.0 (-1.0)\n",
            "Epoch 007/030 | Loss 0.1502 | Win/lose count 1.5/4.0 (-2.5)\n",
            "Epoch 008/030 | Loss 0.0428 | Win/lose count 2.0/4.0 (-2.0)\n",
            "Epoch 009/030 | Loss 0.0620 | Win/lose count 3.5/2.0 (1.5)\n",
            "Epoch 010/030 | Loss 0.0135 | Win/lose count 2.0/0 (2.0)\n",
            "Epoch 011/030 | Loss 0.0251 | Win/lose count 3.5/1.0 (2.5)\n",
            "Epoch 012/030 | Loss 0.0214 | Win/lose count 1.5/1.0 (0.5)\n",
            "Epoch 013/030 | Loss 0.0267 | Win/lose count 3.5/3.0 (0.5)\n",
            "Epoch 014/030 | Loss 0.0237 | Win/lose count 1.5/1.0 (0.5)\n",
            "Epoch 015/030 | Loss 0.0422 | Win/lose count 2.0/2.0 (0.0)\n",
            "Epoch 016/030 | Loss 0.0223 | Win/lose count 1.0/4.0 (-3.0)\n",
            "Epoch 017/030 | Loss 0.0253 | Win/lose count 2.0/5.0 (-3.0)\n",
            "Epoch 018/030 | Loss 0.0149 | Win/lose count 1.5/2.0 (-0.5)\n",
            "Epoch 019/030 | Loss 0.0966 | Win/lose count 2.0/3.0 (-1.0)\n"
          ],
          "name": "stdout"
        }
      ]
    },
    {
      "metadata": {
        "id": "REXULr4JBiVr",
        "colab_type": "text"
      },
      "cell_type": "markdown",
      "source": [
        "***\n",
        "***\n",
        "__Question 9__ Test both algorithms and compare their performances. Which issue(s) do you observe? Observe also different behaviors by changing the temperature."
      ]
    },
    {
      "metadata": {
        "id": "pM6r33WUBiVs",
        "colab_type": "code",
        "outputId": "28eeb62f-1ba4-47a1-8eca-b2b65ed296e8",
        "colab": {
          "base_uri": "https://localhost:8080/",
          "height": 1114
        }
      },
      "cell_type": "code",
      "source": [
        "epochs_test=30 # set small when debugging\n",
        "\n",
        "env = Environment(grid_size=size, max_time=T,temperature=0.3)\n",
        "agent_cnn = DQN_CNN(size, lr=lr, epsilon = 0.03, memory_size=2000, batch_size = 32)\n",
        "agent_cnn.load(name_weights='cnn_trainmodel.h5',name_model='cnn_trainmodel.json')\n",
        "\n",
        "agent_fc = DQN_FC(size, lr=lr, epsilon = 0.1, memory_size=2000, batch_size = 32)\n",
        "agent_fc.load(name_weights='fc_trainmodel.h5',name_model='fc_trainmodel.json')\n",
        "print('Test of the CNN')\n",
        "test(agent_cnn,env,epochs_test,prefix='cnn_test')\n",
        "print('Test of the FC')\n",
        "test(agent_fc,env,epochs_test,prefix='fc_test')"
      ],
      "execution_count": 0,
      "outputs": [
        {
          "output_type": "stream",
          "text": [
            "Test of the CNN\n",
            "Win/lose count 0.5/0. Average score (0.5)\n",
            "Win/lose count 0.5/3.0. Average score (-1.0)\n",
            "Win/lose count 0.5/3.0. Average score (-1.5)\n",
            "Win/lose count 0/0. Average score (-1.125)\n",
            "Win/lose count 1.0/1.0. Average score (-0.9)\n",
            "Win/lose count 0.5/1.0. Average score (-0.8333333333333334)\n",
            "Win/lose count 0.5/0. Average score (-0.6428571428571429)\n",
            "Win/lose count 1.0/1.0. Average score (-0.5625)\n",
            "Win/lose count 1.5/0. Average score (-0.3333333333333333)\n",
            "Win/lose count 1.0/0. Average score (-0.2)\n",
            "Win/lose count 0.5/0. Average score (-0.13636363636363635)\n",
            "Win/lose count 0.5/0. Average score (-0.08333333333333333)\n",
            "Win/lose count 0/2.0. Average score (-0.23076923076923078)\n",
            "Win/lose count 0.5/0. Average score (-0.17857142857142858)\n",
            "Win/lose count 0/1.0. Average score (-0.23333333333333334)\n",
            "Win/lose count 0.5/0. Average score (-0.1875)\n",
            "Win/lose count 1.0/1.0. Average score (-0.17647058823529413)\n",
            "Win/lose count 1.0/1.0. Average score (-0.16666666666666666)\n",
            "Win/lose count 0/1.0. Average score (-0.21052631578947367)\n",
            "Win/lose count 2.0/0. Average score (-0.1)\n",
            "Win/lose count 0.5/0. Average score (-0.07142857142857142)\n",
            "Win/lose count 1.0/3.0. Average score (-0.1590909090909091)\n",
            "Win/lose count 0/1.0. Average score (-0.1956521739130435)\n",
            "Win/lose count 0.5/2.0. Average score (-0.25)\n",
            "Win/lose count 0/1.0. Average score (-0.28)\n",
            "Win/lose count 0/0. Average score (-0.2692307692307692)\n",
            "Win/lose count 0/2.0. Average score (-0.3333333333333333)\n",
            "Win/lose count 0/0. Average score (-0.32142857142857145)\n",
            "Win/lose count 1.0/1.0. Average score (-0.3103448275862069)\n",
            "Win/lose count 1.0/0. Average score (-0.26666666666666666)\n",
            "Final score: -0.26666666666666666\n",
            "Test of the FC\n",
            "Win/lose count 2.0/1.0. Average score (1.0)\n",
            "Win/lose count 2.5/3.0. Average score (0.25)\n",
            "Win/lose count 1.5/3.0. Average score (-0.3333333333333333)\n",
            "Win/lose count 3.0/1.0. Average score (0.25)\n",
            "Win/lose count 2.5/3.0. Average score (0.1)\n",
            "Win/lose count 0/1.0. Average score (-0.08333333333333333)\n",
            "Win/lose count 2.0/2.0. Average score (-0.07142857142857142)\n",
            "Win/lose count 1.0/1.0. Average score (-0.0625)\n",
            "Win/lose count 1.5/3.0. Average score (-0.2222222222222222)\n",
            "Win/lose count 3.5/2.0. Average score (-0.05)\n",
            "Win/lose count 1.5/5.0. Average score (-0.36363636363636365)\n",
            "Win/lose count 1.5/0. Average score (-0.20833333333333334)\n",
            "Win/lose count 2.5/0. Average score (0.0)\n",
            "Win/lose count 3.0/1.0. Average score (0.14285714285714285)\n",
            "Win/lose count 0.5/4.0. Average score (-0.1)\n",
            "Win/lose count 1.5/1.0. Average score (-0.0625)\n",
            "Win/lose count 4.0/3.0. Average score (0.0)\n",
            "Win/lose count 0/4.0. Average score (-0.2222222222222222)\n",
            "Win/lose count 0.5/1.0. Average score (-0.23684210526315788)\n",
            "Win/lose count 1.5/2.0. Average score (-0.25)\n",
            "Win/lose count 0.5/4.0. Average score (-0.40476190476190477)\n",
            "Win/lose count 4.0/0. Average score (-0.20454545454545456)\n",
            "Win/lose count 0.5/4.0. Average score (-0.34782608695652173)\n",
            "Win/lose count 3.5/4.0. Average score (-0.3541666666666667)\n",
            "Win/lose count 1.0/3.0. Average score (-0.42)\n",
            "Win/lose count 1.0/5.0. Average score (-0.5576923076923077)\n",
            "Win/lose count 1.0/3.0. Average score (-0.6111111111111112)\n",
            "Win/lose count 2.5/4.0. Average score (-0.6428571428571429)\n",
            "Win/lose count 1.5/2.0. Average score (-0.6379310344827587)\n",
            "Win/lose count 2.5/1.0. Average score (-0.5666666666666667)\n",
            "Final score: -0.5666666666666667\n"
          ],
          "name": "stdout"
        }
      ]
    },
    {
      "metadata": {
        "id": "c8X1YvQJBiVx",
        "colab_type": "code",
        "outputId": "97dc7f00-4969-4e76-9533-5008ca36c2a9",
        "colab": {
          "base_uri": "https://localhost:8080/",
          "height": 293
        }
      },
      "cell_type": "code",
      "source": [
        "HTML(display_videos('cnn_test10.mp4'))"
      ],
      "execution_count": 0,
      "outputs": [
        {
          "output_type": "execute_result",
          "data": {
            "text/html": [
              "<video alt=\"test\" controls>\n",
              "                <source src=\"data:video/mp4;base64,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\" type=\"video/mp4\" />\n",
              "             </video>"
            ],
            "text/plain": [
              "<IPython.core.display.HTML object>"
            ]
          },
          "metadata": {
            "tags": []
          },
          "execution_count": 28
        }
      ]
    },
    {
      "metadata": {
        "id": "ZVIfbGSrBiV1",
        "colab_type": "code",
        "outputId": "bee8b1e5-587c-4dd1-df0c-a75ae8066fcb",
        "colab": {
          "base_uri": "https://localhost:8080/",
          "height": 293
        }
      },
      "cell_type": "code",
      "source": [
        "HTML(display_videos('fc_test10.mp4'))"
      ],
      "execution_count": 0,
      "outputs": [
        {
          "output_type": "execute_result",
          "data": {
            "text/html": [
              "<video alt=\"test\" controls>\n",
              "                <source src=\"data:video/mp4;base64,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\" type=\"video/mp4\" />\n",
              "             </video>"
            ],
            "text/plain": [
              "<IPython.core.display.HTML object>"
            ]
          },
          "metadata": {
            "tags": []
          },
          "execution_count": 29
        }
      ]
    },
    {
      "metadata": {
        "id": "DSeAf6rzBiV7",
        "colab_type": "text"
      },
      "cell_type": "markdown",
      "source": [
        "Given the structure of the data CNN are supposed to outperform fully connected network, which it does but not consistently."
      ]
    },
    {
      "metadata": {
        "id": "SOq5L1pTBiV7",
        "colab_type": "text"
      },
      "cell_type": "markdown",
      "source": [
        "***\n",
        "\n",
        "The algorithm tends to not explore the map which can be an issue. We propose two ideas in order to encourage exploration:\n",
        "1. Incorporating a decreasing $\\epsilon$-greedy exploration. You can use the method ```set_epsilon```\n",
        "2. Append via the environment a new state that describes if a cell has been visited or not\n",
        "\n",
        "***\n",
        "__Question 10__ Design a new ```train_explore``` function and environment class ```EnvironmentExploring``` to tackle the issue of exploration.\n",
        "\n"
      ]
    },
    {
      "metadata": {
        "id": "3p0VJ-LLBiV8",
        "colab_type": "code",
        "colab": {}
      },
      "cell_type": "code",
      "source": [
        "def train_explore(agent,env,epoch,stop_epsilon,prefix=''):\n",
        "    # Number of won games\n",
        "    score = 0\n",
        "    loss = 0\n",
        "\n",
        "    for e in range(epoch):\n",
        "        # At each epoch, we restart to a fresh game and get the initial state\n",
        "        state = env.reset()\n",
        "        # This assumes that the games will terminate\n",
        "        game_over = False\n",
        "        \n",
        "        agent.set_epsilon((1 -min(1, e/stop_epsilon))*agent.epsilon)\n",
        "        \n",
        "        print(min(1, e/stop_epsilon), (1 -min(1, e/stop_epsilon))*agent.epsilon)\n",
        "\n",
        "        win = 0\n",
        "        lose = 0\n",
        "\n",
        "        while not game_over:            \n",
        "            action = agent.act(state)\n",
        "            \n",
        "            prev_state = state\n",
        "            state, reward, game_over = env.act(action, train=True) \n",
        "\n",
        "            # Update the counters\n",
        "            if reward > 0:\n",
        "                win = win + reward\n",
        "            if reward < 0:\n",
        "                lose = lose -reward\n",
        "\n",
        "            # Apply the reinforcement strategy\n",
        "            loss = agent.reinforce(prev_state, state,  action, reward, game_over)\n",
        "\n",
        "        # Save as a mp4\n",
        "        if e % 10 == 0:\n",
        "            env.draw(prefix+str(e))\n",
        "\n",
        "        # Update stats\n",
        "        score += win-lose\n",
        "\n",
        "        print(\"Epoch {:03d}/{:03d} | Loss {:.4f} | Win/lose count {}/{} ({})\"\n",
        "              .format(e, epoch, loss, win, lose, win-lose))\n",
        "        agent.save(name_weights=prefix+'model.h5',name_model=prefix+'model.json')\n",
        "\n",
        "        \n",
        "class EnvironmentExploring(Environment):\n",
        "    \n",
        "    def __init__(self, grid_size=10, max_time=500, temperature=0.1):\n",
        "        super(EnvironmentExploring,self).__init__(grid_size, max_time, temperature)\n",
        "        self.malus_position = np.zeros((self.grid_size,self.grid_size))\n",
        "\n",
        "        \n",
        "    def act(self, action, train=False):\n",
        "        \n",
        "        state, reward, game_over = super(EnvironmentExploring,self).act(action)\n",
        "\n",
        "        if train:\n",
        "            reward += -self.malus_position[self.x, self.y]\n",
        "        self.malus_position[self.x, self.y] = 0.1\n",
        "        \n",
        "        # take malus_position into account\n",
        "        state = self.get_state()\n",
        "\n",
        "        return state, reward, game_over\n",
        "    \n",
        "    def get_state(self):\n",
        "        # 3 \"feature\" states instead of 2\n",
        "        state = np.concatenate((self.malus_position.reshape(self.grid_size, self.grid_size,1),\n",
        "                                        self.board.reshape(self.grid_size, self.grid_size,1),\n",
        "                                self.position.reshape(self.grid_size, self.grid_size,1)),axis=2)\n",
        "        state = state[self.x - 2:self.x + 3, self.y - 2:self.y + 3, :]\n",
        "        return state\n",
        "    \n",
        "    def reset(self):\n",
        "        self.malus_position = np.zeros((self.grid_size,self.grid_size))\n",
        "        \n",
        "        # the rest is the same as for the parent class\n",
        "        super(EnvironmentExploring, self).reset()   \n",
        "        \n",
        "        return self.get_state()\n",
        "\n",
        "\n"
      ],
      "execution_count": 0,
      "outputs": []
    },
    {
      "metadata": {
        "id": "bwwREve1BiWA",
        "colab_type": "code",
        "outputId": "ef041865-4cdf-4442-f525-97a64861ce73",
        "colab": {
          "base_uri": "https://localhost:8080/",
          "height": 1322
        }
      },
      "cell_type": "code",
      "source": [
        "# Training\n",
        "stop_epsilon = 45\n",
        "env = EnvironmentExploring(grid_size=size, max_time=T, temperature=0.3)\n",
        "agent = DQN_CNN(size, lr=.1, epsilon = 0.1, memory_size=2000, batch_size = 32,n_state=3)\n",
        "train_explore(agent, env, epochs_train,stop_epsilon, prefix='cnn_train_explore')\n",
        "HTML(display_videos('cnn_train_explore10.mp4'))"
      ],
      "execution_count": 0,
      "outputs": [
        {
          "output_type": "stream",
          "text": [
            "0.0 0.1\n",
            "Epoch 000/030 | Loss 0.0131 | Win/lose count 3.0/21.80000000000005 (-18.80000000000005)\n",
            "0.022222222222222223 0.09560493827160493\n",
            "Epoch 001/030 | Loss 0.0078 | Win/lose count 2.0/20.900000000000013 (-18.900000000000013)\n",
            "0.044444444444444446 0.08927956104252402\n",
            "Epoch 002/030 | Loss 0.0069 | Win/lose count 2.0/22.000000000000018 (-20.000000000000018)\n",
            "0.06666666666666667 0.08138973936899864\n",
            "Epoch 003/030 | Loss 0.0038 | Win/lose count 1.0/21.200000000000035 (-20.200000000000035)\n",
            "0.08888888888888889 0.07238949834882895\n",
            "Epoch 004/030 | Loss 0.0015 | Win/lose count 2.0/21.000000000000018 (-19.000000000000018)\n",
            "0.1111111111111111 0.06277680073611182\n",
            "Epoch 005/030 | Loss 0.0031 | Win/lose count 0.5/20.10000000000002 (-19.60000000000002)\n",
            "0.13333333333333333 0.05304639662201449\n",
            "Epoch 006/030 | Loss 0.0059 | Win/lose count 1.5/23.80000000000004 (-22.30000000000004)\n",
            "0.15555555555555556 0.04364615197845523\n",
            "Epoch 007/030 | Loss 0.0016 | Win/lose count 1.5/21.100000000000037 (-19.600000000000037)\n",
            "0.17777777777777778 0.03494244564824865\n",
            "Epoch 008/030 | Loss 0.0028 | Win/lose count 1.5/19.70000000000001 (-18.20000000000001)\n",
            "0.2 0.027198444180258415\n",
            "Epoch 009/030 | Loss 0.0064 | Win/lose count 1.0/21.400000000000038 (-20.400000000000038)\n",
            "0.2222222222222222 0.020566724765936146\n",
            "Epoch 010/030 | Loss 0.0009 | Win/lose count 1.0/20.400000000000023 (-19.400000000000023)\n",
            "0.24444444444444444 0.0150953230662998\n",
            "Epoch 011/030 | Loss 0.0004 | Win/lose count 0.5/20.600000000000026 (-20.100000000000026)\n",
            "0.26666666666666666 0.010744318182483977\n",
            "Epoch 012/030 | Loss 0.0006 | Win/lose count 0/19.900000000000013 (-19.900000000000013)\n",
            "0.28888888888888886 0.007408876645699389\n",
            "Epoch 013/030 | Loss 0.0007 | Win/lose count 1.0/19.70000000000001 (-18.70000000000001)\n",
            "0.3111111111111111 0.004944396150359106\n",
            "Epoch 014/030 | Loss 0.0008 | Win/lose count 0/20.000000000000014 (-20.000000000000014)\n",
            "0.3333333333333333 0.003189933000231682\n",
            "Epoch 015/030 | Loss 0.0089 | Win/lose count 0/19.900000000000013 (-19.900000000000013)\n",
            "0.35555555555555557 0.0019872101134776623\n",
            "Epoch 016/030 | Loss 0.0954 | Win/lose count 0/19.900000000000013 (-19.900000000000013)\n",
            "0.37777777777777777 0.0011938488344570785\n",
            "Epoch 017/030 | Loss 0.0044 | Win/lose count 0.5/19.900000000000013 (-19.400000000000013)\n",
            "0.4 0.0006907268256501666\n",
            "Epoch 018/030 | Loss 0.0007 | Win/lose count 0/20.000000000000014 (-20.000000000000014)\n",
            "0.4222222222222222 0.00038430562480618323\n",
            "Epoch 019/030 | Loss 0.0005 | Win/lose count 0/20.000000000000014 (-20.000000000000014)\n",
            "0.4444444444444444 0.0002052914662426193\n",
            "Epoch 020/030 | Loss 0.0002 | Win/lose count 0/20.000000000000014 (-20.000000000000014)\n",
            "0.4666666666666667 0.00010510923071622107\n",
            "Epoch 021/030 | Loss 0.0003 | Win/lose count 0/20.000000000000014 (-20.000000000000014)\n",
            "0.4888888888888889 5.148405837859347e-05\n",
            "Epoch 022/030 | Loss 0.0003 | Win/lose count 0/20.000000000000014 (-20.000000000000014)\n",
            "0.5111111111111111 2.4075636961583808e-05\n",
            "Epoch 023/030 | Loss 0.0001 | Win/lose count 0/20.000000000000014 (-20.000000000000014)\n",
            "0.5333333333333333 1.072460191925097e-05\n",
            "Epoch 024/030 | Loss 0.1164 | Win/lose count 0/20.000000000000014 (-20.000000000000014)\n",
            "0.5555555555555556 4.53951403989459e-06\n",
            "Epoch 025/030 | Loss 0.0001 | Win/lose count 0/20.000000000000014 (-20.000000000000014)\n",
            "0.5777777777777777 1.8208495204466081e-06\n",
            "Epoch 026/030 | Loss 0.0000 | Win/lose count 0/20.000000000000014 (-20.000000000000014)\n",
            "0.6 6.900061340639779e-07\n",
            "Epoch 027/030 | Loss 0.0000 | Win/lose count 0/20.000000000000014 (-20.000000000000014)\n",
            "0.6222222222222222 2.4618737375862913e-07\n",
            "Epoch 028/030 | Loss 0.0003 | Win/lose count 0/20.000000000000014 (-20.000000000000014)\n",
            "0.6444444444444445 8.238427148001182e-08\n",
            "Epoch 029/030 | Loss 0.0002 | Win/lose count 0/20.000000000000014 (-20.000000000000014)\n"
          ],
          "name": "stdout"
        },
        {
          "output_type": "execute_result",
          "data": {
            "text/html": [
              "<video alt=\"test\" controls>\n",
              "                <source src=\"data:video/mp4;base64,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\" type=\"video/mp4\" />\n",
              "             </video>"
            ],
            "text/plain": [
              "<IPython.core.display.HTML object>"
            ]
          },
          "metadata": {
            "tags": []
          },
          "execution_count": 31
        }
      ]
    },
    {
      "metadata": {
        "id": "pbBhhOfQBiWH",
        "colab_type": "code",
        "outputId": "5ad2c491-7d89-4b92-b3a9-f5f9b32d5796",
        "colab": {
          "base_uri": "https://localhost:8080/",
          "height": 713
        }
      },
      "cell_type": "code",
      "source": [
        "# Evaluation\n",
        "test(agent,env,epochs_test,prefix='cnn_test_explore')\n",
        "HTML(display_videos('cnn_test_explore10.mp4'))in a "
      ],
      "execution_count": 0,
      "outputs": [
        {
          "output_type": "stream",
          "text": [
            "Win/lose count 0/0. Average score (0.0)\n",
            "Win/lose count 0/0. Average score (0.0)\n",
            "Win/lose count 0/0. Average score (0.0)\n",
            "Win/lose count 0/0. Average score (0.0)\n",
            "Win/lose count 0/0. Average score (0.0)\n",
            "Win/lose count 0/0. Average score (0.0)\n",
            "Win/lose count 0/0. Average score (0.0)\n",
            "Win/lose count 0/0. Average score (0.0)\n",
            "Win/lose count 0/0. Average score (0.0)\n",
            "Win/lose count 0/0. Average score (0.0)\n",
            "Win/lose count 0/0. Average score (0.0)\n",
            "Win/lose count 0/0. Average score (0.0)\n",
            "Win/lose count 0/0. Average score (0.0)\n",
            "Win/lose count 0/0. Average score (0.0)\n",
            "Win/lose count 0/0. Average score (0.0)\n",
            "Win/lose count 0/0. Average score (0.0)\n",
            "Win/lose count 0/0. Average score (0.0)\n",
            "Win/lose count 0/0. Average score (0.0)\n",
            "Win/lose count 0/0. Average score (0.0)\n",
            "Win/lose count 0/0. Average score (0.0)\n",
            "Win/lose count 0/0. Average score (0.0)\n",
            "Win/lose count 0/0. Average score (0.0)\n",
            "Win/lose count 0/0. Average score (0.0)\n",
            "Win/lose count 0/0. Average score (0.0)\n",
            "Win/lose count 0/0. Average score (0.0)\n",
            "Win/lose count 0/0. Average score (0.0)\n",
            "Win/lose count 0/0. Average score (0.0)\n",
            "Win/lose count 0/0. Average score (0.0)\n",
            "Win/lose count 0/0. Average score (0.0)\n",
            "Win/lose count 0/0. Average score (0.0)\n",
            "Final score: 0.0\n"
          ],
          "name": "stdout"
        },
        {
          "output_type": "error",
          "ename": "NameError",
          "evalue": "ignored",
          "traceback": [
            "\u001b[0;31m---------------------------------------------------------------------------\u001b[0m",
            "\u001b[0;31mNameError\u001b[0m                                 Traceback (most recent call last)",
            "\u001b[0;32m<ipython-input-32-21a6712f3455>\u001b[0m in \u001b[0;36m<module>\u001b[0;34m()\u001b[0m\n\u001b[1;32m      1\u001b[0m \u001b[0mtest\u001b[0m\u001b[0;34m(\u001b[0m\u001b[0magent\u001b[0m\u001b[0;34m,\u001b[0m\u001b[0menv\u001b[0m\u001b[0;34m,\u001b[0m\u001b[0mepochs_test\u001b[0m\u001b[0;34m,\u001b[0m\u001b[0mprefix\u001b[0m\u001b[0;34m=\u001b[0m\u001b[0;34m'cnn_test_explore'\u001b[0m\u001b[0;34m)\u001b[0m\u001b[0;34m\u001b[0m\u001b[0;34m\u001b[0m\u001b[0m\n\u001b[0;32m----> 2\u001b[0;31m \u001b[0mHTML\u001b[0m\u001b[0;34m(\u001b[0m\u001b[0mdisplay_videos\u001b[0m\u001b[0;34m(\u001b[0m\u001b[0;34m'cnn_test_explore10.mp4'\u001b[0m\u001b[0;34m)\u001b[0m\u001b[0;34m)\u001b[0m\u001b[0;32min\u001b[0m \u001b[0ma\u001b[0m\u001b[0;34m\u001b[0m\u001b[0;34m\u001b[0m\u001b[0m\n\u001b[0m",
            "\u001b[0;31mNameError\u001b[0m: name 'a' is not defined"
          ]
        }
      ]
    },
    {
      "metadata": {
        "id": "MbsxWe9lBiWJ",
        "colab_type": "text"
      },
      "cell_type": "markdown",
      "source": [
        "***\n",
        "***\n",
        "__BONUS question__ Use the expert DQN from the previous question to generate some winning games. Train a model that mimicks its behavior. Compare the performances."
      ]
    },
    {
      "metadata": {
        "id": "tYVEm-cPBiWK",
        "colab_type": "text"
      },
      "cell_type": "markdown",
      "source": [
        ""
      ]
    },
    {
      "metadata": {
        "id": "8J8Kr282BiWL",
        "colab_type": "text"
      },
      "cell_type": "markdown",
      "source": [
        "***"
      ]
    }
  ]
}